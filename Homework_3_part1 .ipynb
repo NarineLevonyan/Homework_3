{
 "cells": [
  {
   "cell_type": "markdown",
   "metadata": {},
   "source": [
    "1)Construct a function, which will ask the user to input several numbers separated by commas and\n",
    "will calculate their average. (e.g. if the user inputs 3,5,7 the function must result in 5)"
   ]
  },
  {
   "cell_type": "code",
   "execution_count": 3,
   "metadata": {},
   "outputs": [],
   "source": [
    "def mean(numbers):\n",
    "    numbers_arr = [int(i) for i in numbers.split(\",\")] \n",
    "    return float(sum(numbers_arr))/len(numbers_arr)"
   ]
  },
  {
   "cell_type": "markdown",
   "metadata": {},
   "source": [
    "I splittes numbers with commas, as they are string...and made each of them integer to ccount average of them"
   ]
  },
  {
   "cell_type": "code",
   "execution_count": 4,
   "metadata": {},
   "outputs": [
    {
     "data": {
      "text/plain": [
       "4.5"
      ]
     },
     "execution_count": 4,
     "metadata": {},
     "output_type": "execute_result"
    }
   ],
   "source": [
    "mean(\"1,2,3,4,5,6,7,8\")"
   ]
  },
  {
   "cell_type": "markdown",
   "metadata": {},
   "source": [
    "2)Upgrade the function above to also ask the user the number of occurrences to calculate the\n",
    "average for. (e.g. if the user inputs 1,3,5,7,9 and as the second argument to function inputs 2, the\n",
    "function must result in (7+9)/2 = 8. If the user inputs the same numbers as a first argument, but\n",
    "inputs 3 as the 2nd, then the function must result in (5+7+9)/3=7)\n"
   ]
  },
  {
   "cell_type": "code",
   "execution_count": 8,
   "metadata": {},
   "outputs": [],
   "source": [
    "def mean_arg(numbers, input2):\n",
    "    numbers_arr = [int(i) for i in numbers.split(\",\")]\n",
    "    return float(sum(numbers_arr[input2 *(-1):])) / input2\n",
    "        \n",
    "# I multiplied inputs with -1 to get needed index"
   ]
  },
  {
   "cell_type": "code",
   "execution_count": 9,
   "metadata": {},
   "outputs": [
    {
     "data": {
      "text/plain": [
       "3.5"
      ]
     },
     "execution_count": 9,
     "metadata": {},
     "output_type": "execute_result"
    }
   ],
   "source": [
    "mean_arg(\"1,2,3,4\", 2)"
   ]
  },
  {
   "cell_type": "markdown",
   "metadata": {},
   "source": [
    "3)Construct a function, which will generate a random number between 1 and 100 (both\n",
    "included). If this number is between 50 and 100 (not included) the function returns \"Win\", if it is\n",
    "between 1 and 50 (both included) the function returns \"Loss\" and if it is exactly 100 then the\n",
    "function returns \"Draw\". (Hint: to generate a random number, one should first import a package\n",
    "called random (i.e. import random) and then use the function randint from there\n",
    "(e.g. random.randint(x,y), where x=1 and y=100 in our case)\n"
   ]
  },
  {
   "cell_type": "code",
   "execution_count": 13,
   "metadata": {},
   "outputs": [],
   "source": [
    "import random\n",
    "from pprint import pprint "
   ]
  },
  {
   "cell_type": "code",
   "execution_count": 14,
   "metadata": {},
   "outputs": [],
   "source": [
    "def generate_rand():\n",
    "    number = random.randint(1, 100)   #both are included\n",
    "    if number in range(51, 100):      #last one is not included.. in range\n",
    "        return \"Win\"\n",
    "    elif number == 100:\n",
    "        return \"Draw\"\n",
    "    else:\n",
    "        return \"Loss\"\n"
   ]
  },
  {
   "cell_type": "code",
   "execution_count": 24,
   "metadata": {
    "scrolled": true
   },
   "outputs": [
    {
     "data": {
      "text/plain": [
       "'Win'"
      ]
     },
     "execution_count": 24,
     "metadata": {},
     "output_type": "execute_result"
    }
   ],
   "source": [
    "generate_rand()"
   ]
  },
  {
   "cell_type": "markdown",
   "metadata": {},
   "source": [
    "I used random.randint to get random numbers and used if, elif, else conditions."
   ]
  },
  {
   "cell_type": "markdown",
   "metadata": {},
   "source": [
    "4)Create a list of 3 stocks (choose whatever stocks you want, e.g. [\"IBM\",\"AAPL\",\"MSFT\"]).\n",
    "Create a for loop that will iterate over the list, get the data of relevant stock (from Quandl, WIKI\n",
    "database) and print the first 7 rows of the data.\n"
   ]
  },
  {
   "cell_type": "code",
   "execution_count": 27,
   "metadata": {},
   "outputs": [
    {
     "name": "stdout",
     "output_type": "stream",
     "text": [
      "             Open   High    Low   Close   Volume  Ex-Dividend  Split Ratio  \\\n",
      "Date                                                                         \n",
      "1962-01-02  578.5  578.5  572.0  572.00  19360.0          0.0          1.0   \n",
      "1962-01-03  572.0  577.0  572.0  577.00  14400.0          0.0          1.0   \n",
      "1962-01-04  577.0  577.0  571.0  571.25  12800.0          0.0          1.0   \n",
      "1962-01-05  570.5  570.5  559.0  560.00  18160.0          0.0          1.0   \n",
      "1962-01-08  559.5  559.5  545.0  549.50  27200.0          0.0          1.0   \n",
      "1962-01-09  552.0  563.0  552.0  556.00  24560.0          0.0          1.0   \n",
      "1962-01-10  557.0  559.5  557.0  557.00  14960.0          0.0          1.0   \n",
      "\n",
      "            Adj. Open  Adj. High   Adj. Low  Adj. Close  Adj. Volume  \n",
      "Date                                                                  \n",
      "1962-01-02  15.270839  15.270839  15.099257   15.099257     387200.0  \n",
      "1962-01-03  15.099257  15.231243  15.099257   15.231243     288000.0  \n",
      "1962-01-04  15.231243  15.231243  15.072860   15.079459     256000.0  \n",
      "1962-01-05  15.059661  15.059661  14.756092   14.782489     363200.0  \n",
      "1962-01-08  14.769291  14.769291  14.386530   14.505318     544000.0  \n",
      "1962-01-09  14.571311  14.861681  14.571311   14.676900     491200.0  \n",
      "1962-01-10  14.703297  14.769291  14.703297   14.703297     299200.0  \n",
      "             Open   High    Low  Close     Volume  Ex-Dividend  Split Ratio  \\\n",
      "Date                                                                          \n",
      "1980-12-12  28.75  28.87  28.75  28.75  2093900.0          0.0          1.0   \n",
      "1980-12-15  27.38  27.38  27.25  27.25   785200.0          0.0          1.0   \n",
      "1980-12-16  25.37  25.37  25.25  25.25   472000.0          0.0          1.0   \n",
      "1980-12-17  25.87  26.00  25.87  25.87   385900.0          0.0          1.0   \n",
      "1980-12-18  26.63  26.75  26.63  26.63   327900.0          0.0          1.0   \n",
      "1980-12-19  28.25  28.38  28.25  28.25   217100.0          0.0          1.0   \n",
      "1980-12-22  29.63  29.75  29.63  29.63   166800.0          0.0          1.0   \n",
      "\n",
      "            Adj. Open  Adj. High  Adj. Low  Adj. Close  Adj. Volume  \n",
      "Date                                                                 \n",
      "1980-12-12   0.422706   0.424470  0.422706    0.422706  117258400.0  \n",
      "1980-12-15   0.402563   0.402563  0.400652    0.400652   43971200.0  \n",
      "1980-12-16   0.373010   0.373010  0.371246    0.371246   26432000.0  \n",
      "1980-12-17   0.380362   0.382273  0.380362    0.380362   21610400.0  \n",
      "1980-12-18   0.391536   0.393300  0.391536    0.391536   18362400.0  \n",
      "1980-12-19   0.415355   0.417266  0.415355    0.415355   12157600.0  \n",
      "1980-12-22   0.435644   0.437409  0.435644    0.435644    9340800.0  \n",
      "             Open   High    Low  Close     Volume  Ex-Dividend  Split Ratio  \\\n",
      "Date                                                                          \n",
      "2002-05-23  16.19  17.40  16.04  16.75  7485000.0          0.0          1.0   \n",
      "2002-05-24  17.00  17.15  16.76  16.94   793200.0          0.0          1.0   \n",
      "2002-05-28  16.99  17.25  16.20  16.20   472100.0          0.0          1.0   \n",
      "2002-05-29  16.30  16.30  15.20  15.45   482700.0          0.0          1.0   \n",
      "2002-05-30  15.51  15.51  15.00  15.00   725300.0          0.0          1.0   \n",
      "2002-05-31  15.10  15.10  15.00  15.07   604600.0          0.0          1.0   \n",
      "2002-06-03  15.12  16.09  15.07  15.80   225100.0          0.0          1.0   \n",
      "\n",
      "            Adj. Open  Adj. High  Adj. Low  Adj. Close  Adj. Volume  \n",
      "Date                                                                 \n",
      "2002-05-23   1.156429   1.242857  1.145714    1.196429  104790000.0  \n",
      "2002-05-24   1.214286   1.225000  1.197143    1.210000   11104800.0  \n",
      "2002-05-28   1.213571   1.232143  1.157143    1.157143    6609400.0  \n",
      "2002-05-29   1.164286   1.164286  1.085714    1.103571    6757800.0  \n",
      "2002-05-30   1.107857   1.107857  1.071429    1.071429   10154200.0  \n",
      "2002-05-31   1.078571   1.078571  1.071429    1.076429    8464400.0  \n",
      "2002-06-03   1.080000   1.149286  1.076429    1.128571    3151400.0  \n"
     ]
    }
   ],
   "source": [
    "import quandl\n",
    "\n",
    "stock_list = [\"IBM\", \"AAPL\", \"NFLX\"]\n",
    "for i in stock_list:\n",
    "    data = quandl.get(\"WIKI/\" + i)\n",
    "    pprint(data[:7])\n",
    "                  \n",
    "\n",
    " "
   ]
  },
  {
   "cell_type": "markdown",
   "metadata": {},
   "source": [
    "#I have imported quandl, made a list of three stocks, for loop gets from quandl these stcoks and prints the first 7 rows of each one."
   ]
  },
  {
   "cell_type": "markdown",
   "metadata": {},
   "source": [
    "5)Upgrade the for loop above. Now, instead of printing the data, the for loop should iterate\n",
    "over the list, get the data and plot it."
   ]
  },
  {
   "cell_type": "code",
   "execution_count": 29,
   "metadata": {},
   "outputs": [
    {
     "data": {
      "image/png": "[encoded data removed]",
      "text/plain": [
       "<Figure size 432x288 with 1 Axes>"
      ]
     },
     "metadata": {},
     "output_type": "display_data"
    }
   ],
   "source": [
    "import matplotlib.pyplot as plt\n",
    "import quandl\n",
    "\n",
    "stock_list = [\"IBM\", \"AAPL\", \"NFLX\"]\n",
    "for i in stock_list:\n",
    "    data = quandl.get(\"WIKI/\" + i)\n",
    "    plt.plot(data, 'D')\n"
   ]
  },
  {
   "cell_type": "markdown",
   "metadata": {},
   "source": [
    "#I have just imported matplotlib.pyplot and upgraded the previous for loop to get data from stocks and plot it."
   ]
  }
 ],
 "metadata": {
  "kernelspec": {
   "display_name": "Python 3",
   "language": "python",
   "name": "python3"
  },
  "language_info": {
   "codemirror_mode": {
    "name": "ipython",
    "version": 3
   },
   "file_extension": ".py",
   "mimetype": "text/x-python",
   "name": "python",
   "nbconvert_exporter": "python",
   "pygments_lexer": "ipython3",
   "version": "3.6.5"
  }
 },
 "nbformat": 4,
 "nbformat_minor": 2
}
